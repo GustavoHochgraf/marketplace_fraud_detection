{
 "cells": [
  {
   "cell_type": "markdown",
   "metadata": {},
   "source": [
    "# Model deployment"
   ]
  },
  {
   "cell_type": "code",
   "execution_count": 1,
   "metadata": {},
   "outputs": [],
   "source": [
    "import requests\n",
    "import json\n",
    "import pandas as pd\n",
    "import os\n",
    "import yaml\n",
    "import numpy as np\n",
    "import json\n"
   ]
  },
  {
   "cell_type": "code",
   "execution_count": 2,
   "metadata": {},
   "outputs": [
    {
     "name": "stdout",
     "output_type": "stream",
     "text": [
      "Original data shape: (150000, 46)\n"
     ]
    }
   ],
   "source": [
    "data_path = os.path.join(os.getcwd(), \"../data\", \"homol\", \"homol_data.csv\")\n",
    "df_homol = pd.read_csv(data_path)\n",
    "print(\"Original data shape:\", df_homol.shape)"
   ]
  },
  {
   "cell_type": "code",
   "execution_count": 3,
   "metadata": {},
   "outputs": [],
   "source": [
    "constants_path = os.path.join(os.getcwd(), \"../src/utils\", \"constants.yaml\")\n",
    "with open(constants_path, \"r\") as file:\n",
    "    constants = yaml.safe_load(file)\n",
    "FEATURES_TO_USE_AFTER_SELECTION = constants[\"FEATURES_TO_USE_AFTER_SELECTION\"]"
   ]
  },
  {
   "cell_type": "code",
   "execution_count": 4,
   "metadata": {},
   "outputs": [],
   "source": [
    "url = \"http://127.0.0.1:8000/predict\""
   ]
  },
  {
   "cell_type": "code",
   "execution_count": 5,
   "metadata": {},
   "outputs": [],
   "source": [
    "homol_row = df_homol.loc[np.random.randint(0, df_homol.shape[0], 1)]"
   ]
  },
  {
   "cell_type": "code",
   "execution_count": 6,
   "metadata": {},
   "outputs": [
    {
     "data": {
      "text/html": [
       "<div>\n",
       "<style scoped>\n",
       "    .dataframe tbody tr th:only-of-type {\n",
       "        vertical-align: middle;\n",
       "    }\n",
       "\n",
       "    .dataframe tbody tr th {\n",
       "        vertical-align: top;\n",
       "    }\n",
       "\n",
       "    .dataframe thead th {\n",
       "        text-align: right;\n",
       "    }\n",
       "</style>\n",
       "<table border=\"1\" class=\"dataframe\">\n",
       "  <thead>\n",
       "    <tr style=\"text-align: right;\">\n",
       "      <th></th>\n",
       "      <th>a</th>\n",
       "      <th>b</th>\n",
       "      <th>c</th>\n",
       "      <th>d</th>\n",
       "      <th>e</th>\n",
       "      <th>f</th>\n",
       "      <th>g</th>\n",
       "      <th>h</th>\n",
       "      <th>i</th>\n",
       "      <th>j</th>\n",
       "      <th>...</th>\n",
       "      <th>i_cleaned</th>\n",
       "      <th>i_word_original</th>\n",
       "      <th>i_word_kit</th>\n",
       "      <th>i_word_gb</th>\n",
       "      <th>i_word_ram</th>\n",
       "      <th>j_cluster</th>\n",
       "      <th>j_cluster_agrup</th>\n",
       "      <th>k_bin</th>\n",
       "      <th>o_transformed</th>\n",
       "      <th>score_homol</th>\n",
       "    </tr>\n",
       "  </thead>\n",
       "  <tbody>\n",
       "    <tr>\n",
       "      <th>90191</th>\n",
       "      <td>4</td>\n",
       "      <td>0.7964</td>\n",
       "      <td>414352.22</td>\n",
       "      <td>6.0</td>\n",
       "      <td>0.073359</td>\n",
       "      <td>10.0</td>\n",
       "      <td>BR</td>\n",
       "      <td>11</td>\n",
       "      <td>Moldura Dvd Painel Multimidia 2 Din Dakar 09/1...</td>\n",
       "      <td>cat_14faea1</td>\n",
       "      <td>...</td>\n",
       "      <td>moldura dvd painel multimidia 2 din dakar 0916...</td>\n",
       "      <td>0</td>\n",
       "      <td>0</td>\n",
       "      <td>0</td>\n",
       "      <td>0</td>\n",
       "      <td>8</td>\n",
       "      <td>0</td>\n",
       "      <td>1</td>\n",
       "      <td>2</td>\n",
       "      <td>0.010755</td>\n",
       "    </tr>\n",
       "  </tbody>\n",
       "</table>\n",
       "<p>1 rows × 46 columns</p>\n",
       "</div>"
      ],
      "text/plain": [
       "       a       b          c    d         e     f   g   h  \\\n",
       "90191  4  0.7964  414352.22  6.0  0.073359  10.0  BR  11   \n",
       "\n",
       "                                                       i            j  ...  \\\n",
       "90191  Moldura Dvd Painel Multimidia 2 Din Dakar 09/1...  cat_14faea1  ...   \n",
       "\n",
       "                                               i_cleaned  i_word_original  \\\n",
       "90191  moldura dvd painel multimidia 2 din dakar 0916...                0   \n",
       "\n",
       "       i_word_kit  i_word_gb i_word_ram  j_cluster j_cluster_agrup  k_bin  \\\n",
       "90191           0          0          0          8               0      1   \n",
       "\n",
       "       o_transformed  score_homol  \n",
       "90191              2     0.010755  \n",
       "\n",
       "[1 rows x 46 columns]"
      ]
     },
     "execution_count": 6,
     "metadata": {},
     "output_type": "execute_result"
    }
   ],
   "source": [
    "homol_row"
   ]
  },
  {
   "cell_type": "code",
   "execution_count": 7,
   "metadata": {},
   "outputs": [],
   "source": [
    "homol_row_dict = homol_row[FEATURES_TO_USE_AFTER_SELECTION].to_dict(orient='records')"
   ]
  },
  {
   "cell_type": "code",
   "execution_count": 8,
   "metadata": {},
   "outputs": [
    {
     "data": {
      "text/plain": [
       "[{'c': 414352.22,\n",
       "  'l': 2075.0,\n",
       "  'periodo_num': 2,\n",
       "  'a_bin': 0,\n",
       "  'm': 329.0,\n",
       "  'p': 1,\n",
       "  'b': 0.7964,\n",
       "  'o_transformed': 2,\n",
       "  'g_agrup_simples_num': 2,\n",
       "  'e': 0.0733586658222503,\n",
       "  'j_cluster_agrup': 0,\n",
       "  'f': 10.0,\n",
       "  'd': 6.0,\n",
       "  'n': 1,\n",
       "  'i_len': 59,\n",
       "  'monto': 37.71}]"
      ]
     },
     "execution_count": 8,
     "metadata": {},
     "output_type": "execute_result"
    }
   ],
   "source": [
    "homol_row_dict"
   ]
  },
  {
   "cell_type": "code",
   "execution_count": 9,
   "metadata": {},
   "outputs": [],
   "source": [
    "response = requests.post(url, json=homol_row_dict[0])"
   ]
  },
  {
   "cell_type": "code",
   "execution_count": 10,
   "metadata": {},
   "outputs": [
    {
     "name": "stdout",
     "output_type": "stream",
     "text": [
      "Status Code: 200\n"
     ]
    }
   ],
   "source": [
    "print(\"Status Code:\", response.status_code)"
   ]
  },
  {
   "cell_type": "code",
   "execution_count": 11,
   "metadata": {},
   "outputs": [
    {
     "name": "stdout",
     "output_type": "stream",
     "text": [
      "Response: {'fraude_probability': 0.010754889221587027}\n"
     ]
    }
   ],
   "source": [
    "print(\"Response:\", response.json())"
   ]
  },
  {
   "cell_type": "code",
   "execution_count": 12,
   "metadata": {},
   "outputs": [
    {
     "data": {
      "text/plain": [
       "90191    0.010755\n",
       "Name: score_homol, dtype: float64"
      ]
     },
     "execution_count": 12,
     "metadata": {},
     "output_type": "execute_result"
    }
   ],
   "source": [
    "homol_row.score_homol"
   ]
  }
 ],
 "metadata": {
  "kernelspec": {
   "display_name": "fraud_detector_env",
   "language": "python",
   "name": "python3"
  },
  "language_info": {
   "codemirror_mode": {
    "name": "ipython",
    "version": 3
   },
   "file_extension": ".py",
   "mimetype": "text/x-python",
   "name": "python",
   "nbconvert_exporter": "python",
   "pygments_lexer": "ipython3",
   "version": "3.11.9"
  }
 },
 "nbformat": 4,
 "nbformat_minor": 2
}
